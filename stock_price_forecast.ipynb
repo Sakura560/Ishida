{
 "cells": [
  {
   "cell_type": "code",
   "execution_count": 11,
   "metadata": {},
   "outputs": [],
   "source": [
    "from ta import *\n",
    "from sklearn import svm\n",
    "from sklearn.metrics import confusion_matrix\n",
    "import pandas as pd\n",
    "import os\n",
    "file_list=os.listdir(\"./Data\")\n",
    "\n",
    "\n",
    "total_data=pd.read_csv(\"Data/\"+file_list[0])\n",
    "    \n",
    "stock_index=file_list[0][0:4]\n",
    "\n",
    "column_change={\"調整後終値\":\"price_\"+stock_index,\n",
    "               \"出来高\":\"volume_\"+stock_index, \n",
    "               \"日付\":\"date\",\n",
    "                \"高値\":\"high_\"+stock_index, \n",
    "               \"安値\":\"low_\"+stock_index}\n",
    "total_data=total_data.rename(columns=column_change)\n",
    "total_data=total_data[[\"price_\"+stock_index,\n",
    "               \"volume_\"+stock_index,\n",
    "               \"high_\"+stock_index, \n",
    "               \"low_\"+stock_index,\n",
    "               \"date\"]]\n",
    "del file_list[0]\n",
    " \n",
    "for file in file_list:\n",
    "    stock_index=file[0:4]\n",
    "    column_change={\"調整後終値\":\"price_\"+stock_index,\n",
    "               \"出来高\":\"volume_\"+stock_index, \n",
    "               \"日付\":\"date\",\n",
    "                \"高値\":\"high_\"+stock_index, \n",
    "               \"安値\":\"low_\"+stock_index}\n",
    "    data=pd.read_csv(\"Data/\"+file)\n",
    "    data=data.rename(columns=column_change)\n",
    "    data=data[[\"price_\"+stock_index,\n",
    "               \"volume_\"+stock_index,\n",
    "               \"high_\"+stock_index, \n",
    "               \"low_\"+stock_index,\n",
    "               \"date\"]]\n",
    "    \n",
    "    total_data=pd.merge(total_data, data, on=\"date\", how=\"inner\")\n",
    "\n"
   ]
  },
  {
   "cell_type": "code",
   "execution_count": 12,
   "metadata": {},
   "outputs": [],
   "source": [
    "from datetime import datetime \n",
    "total_data[\"date\"]=total_data[\"date\"].apply(lambda x:datetime.strptime(x,\"%Y/%m/%d\"))\n",
    "total_data=total_data.sort_values(\"date\", ascending=True)\n",
    "total_data=total_data.reset_index(drop=True)"
   ]
  },
  {
   "cell_type": "code",
   "execution_count": 13,
   "metadata": {},
   "outputs": [],
   "source": [
    "collist=total_data.columns\n",
    "collist_price = list(filter(lambda s : s.find(\"price\")>-1, collist))\n",
    "collist_high = list(filter(lambda s : s.find(\"high\")>-1, collist))\n",
    "collist_low = list(filter(lambda s : s.find(\"low\")>-1, collist))\n",
    "collist_vol = list(filter(lambda s : s.find(\"volume\")>-1, collist))"
   ]
  },
  {
   "cell_type": "code",
   "execution_count": 14,
   "metadata": {},
   "outputs": [],
   "source": [
    "for i in range(0,len(collist_price)):\n",
    "    total_data[collist_price[i]+ \"_AO\"]=momentum.ao(total_data[collist_high[i]],total_data[collist_low[i]])\n",
    "\n",
    "    total_data[collist_price[i]+ \"_TSI\"]=momentum.tsi(total_data[collist_price[i]])\n",
    "    total_data[collist_price[i]+ \"_UO\"]=momentum.uo(total_data[collist_high[i]],total_data[collist_low[i]],\n",
    "                                                     total_data[collist_price[i]])\n",
    "    total_data[collist_price[i]+ \"_STOCH_SIGN\"]=momentum.stoch_signal(total_data[collist_high[i]],total_data[collist_low[i]],\n",
    "                                                     total_data[collist_price[i]])\n",
    "    total_data[collist_price[i]+ \"_RSI10\"]=momentum.rsi(total_data[collist_price[i]],n=10)\n",
    "    total_data[collist_price[i]+ \"_RSI6\"]=momentum.rsi(total_data[collist_price[i]],n=6)\n",
    "    total_data[collist_price[i]+ \"_MFI\"]=momentum.money_flow_index(total_data[collist_high[i]],total_data[collist_low[i]],\n",
    "                                                                  total_data[collist_price[i]],total_data[collist_vol[i]])\n",
    "   \n",
    "    total_data[collist_price[i]+ \"_wr6\"]=momentum.wr(total_data[collist_high[i]],total_data[collist_low[i]],\n",
    "                                                    total_data[collist_price[i]], lbp=6)\n",
    "    #std =total_data[collist_price[i]+ \"_wr6\"].std()\n",
    "    #mean=total_data[collist_price[i]+ \"_wr6\"].mean()\n",
    "    #total_data[collist_price[i]+ \"_wr6_norm\"]=total_data[collist_price[i]+ \"_wr6\"].apply(lambda x:(x-mean/std if pd.notnull(x) else 0))\n",
    "    \n",
    "    total_data[collist_price[i]+ \"_wr10\"]=momentum.wr(total_data[collist_high[i]],total_data[collist_low[i]],\n",
    "                                                    total_data[collist_price[i]], lbp=10)\n",
    "    #std =total_data[collist_price[i]+ \"_wr10\"].std()\n",
    "    #mean=total_data[collist_price[i]+ \"_wr10\"].mean()\n",
    "    #total_data[collist_price[i]+ \"_wr10_norm\"]=total_data[collist_price[i]+ \"_wr10\"].apply(lambda x:(x-mean/std if pd.notnull(x) else 0))\n",
    "    total_data[collist_price[i]+ \"_macd\"]=trend.macd_signal(total_data[collist_price[i]])\n",
    "    total_data[collist_price[i]+ \"_FI\"]=volume.force_index(total_data[collist_price[i]], total_data[collist_vol[i]])\n",
    "    total_data[collist_price[i]+ \"_ATR\"]=volatility.average_true_range(total_data[collist_high[i]],total_data[collist_low[i]],\n",
    "                                                                    total_data[collist_price[i]])\n",
    "    total_data[collist_price[i]+ \"_CCI\"]=trend.cci(total_data[collist_high[i]],total_data[collist_low[i]],\n",
    "                                                                    total_data[collist_price[i]])\n",
    "    total_data[collist_price[i]+ \"_KST_SIGN\"]=trend.kst_sig(total_data[collist_price[i]])\n"
   ]
  },
  {
   "cell_type": "code",
   "execution_count": 15,
   "metadata": {},
   "outputs": [],
   "source": [
    "for price_col in list(collist_price):\n",
    "    total_data[price_col + \"_diff\"] = total_data[price_col] - total_data[price_col].shift(1)    \n",
    "    total_data[price_col+\"_diff_sign\"] = total_data[price_col+\"_diff\"].apply(lambda x : 1 if x>=0 else 0)\n",
    "    total_data[price_col+\"_ratio\"] = total_data[price_col]/total_data[price_col].shift(1) - 1"
   ]
  },
  {
   "cell_type": "code",
   "execution_count": 16,
   "metadata": {},
   "outputs": [],
   "source": [
    "collist_price_index=list(map(lambda s: s[-4:], collist_price))"
   ]
  },
  {
   "cell_type": "code",
   "execution_count": 17,
   "metadata": {},
   "outputs": [],
   "source": [
    "long_data=pd.DataFrame()\n",
    "for i in range(0,len(collist_price_index)):\n",
    "    col_each_stock_data = list(filter(lambda s : s.find(collist_price_index[i])>-1, list(total_data.columns)))\n",
    "    \n",
    "    col_each_stock_data.append(\"date\")\n",
    "    long_data_each = total_data[col_each_stock_data]\n",
    "    long_data_each = long_data_each.drop([\"price_\"+collist_price_index[i],\n",
    "                                          \"high_\"+collist_price_index[i],\n",
    "                                          \"low_\"+collist_price_index[i],\n",
    "                                          \"volume_\"+collist_price_index[i]],axis=1)\n",
    "    long_data_each = long_data_each.rename(columns=lambda s: s[11:] if s!=\"date\" else s)\n",
    "    \n",
    "    long_data_each[\"stock_index\"] = int(collist_price_index[i])\n",
    " \n",
    "    long_data = pd.concat([long_data,long_data_each])\n",
    "\n",
    "long_data[\"year\"]=long_data[\"date\"].apply(lambda x:x.year)"
   ]
  },
  {
   "cell_type": "code",
   "execution_count": 18,
   "metadata": {},
   "outputs": [],
   "source": [
    "fin_data=pd.read_csv(\"financial_statement.csv\")\n",
    "est_data=pd.merge(long_data,fin_data, on=[\"stock_index\",\"year\"], how=\"outer\")\n",
    "\n",
    "est_data=est_data[(est_data[\"date\"]>=datetime.strptime(\"2018-01-01\",\"%Y-%m-%d\"))\n",
    "                           &(est_data[\"date\"]<=datetime.strptime(\"2019-10-31\",\"%Y-%m-%d\"))]\n",
    "\n",
    "\n",
    "std =est_data[\"wr6\"].std()\n",
    "mean=est_data[\"wr6\"].mean()\n",
    "est_data[\"wr6_norm\"]=est_data[\"wr6\"].apply(lambda x:(x-mean/std if pd.notnull(x) else 0))\n",
    "\n",
    "std =est_data[\"wr10\"].std()\n",
    "mean=est_data[\"wr10\"].mean()\n",
    "est_data[\"wr10_norm\"]=est_data[\"wr10\"].apply(lambda x:(x-mean/std if pd.notnull(x) else 0))\n",
    "\n",
    "std =est_data[\"AO\"].std()\n",
    "mean=est_data[\"AO\"].mean()\n",
    "est_data[\"AO\"]=est_data[\"AO\"].apply(lambda x:(x-mean/std if pd.notnull(x) else 0))"
   ]
  },
  {
   "cell_type": "code",
   "execution_count": 19,
   "metadata": {},
   "outputs": [],
   "source": [
    "learning_data=est_data[(est_data[\"date\"]>=datetime.strptime(\"2018-01-01\",\"%Y-%m-%d\"))\n",
    "                           &(est_data[\"date\"]<=datetime.strptime(\"2019-08-31\",\"%Y-%m-%d\"))]\n",
    "test_data=est_data[(est_data[\"date\"]>=datetime.strptime(\"2019-09-01\",\"%Y-%m-%d\"))\n",
    "                           &(est_data[\"date\"]<=datetime.strptime(\"2019-10-31\",\"%Y-%m-%d\"))]\n",
    "test_data=test_data.reset_index(drop=True)"
   ]
  },
  {
   "cell_type": "code",
   "execution_count": 31,
   "metadata": {},
   "outputs": [],
   "source": [
    "y_train=learning_data[\"diff_sign\"]\n",
    "y_test=test_data[\"diff_sign\"]\n",
    "\n",
    "x_columns=[\n",
    "           'wr6_norm',\n",
    "           'wr10_norm',\n",
    "           'RSI10',\n",
    "           'RSI6',\n",
    "           'STOCH_SIGN',\n",
    "  #         'KST_SIGN',\n",
    "           'TSI',\n",
    "           'UO',\n",
    "           'AO',\n",
    "           'ATR',\n",
    "           'macd',\n",
    "           'MFI',\n",
    "           'CCI',\n",
    "           'equity-ratio',\n",
    "           'log_sales',\n",
    "           'log_profit']\n",
    "\n",
    "x_train=learning_data[x_columns]\n",
    "x_test=test_data[x_columns]"
   ]
  },
  {
   "cell_type": "code",
   "execution_count": 32,
   "metadata": {},
   "outputs": [
    {
     "data": {
      "text/plain": [
       "array([[204,  73],\n",
       "       [ 52, 351]], dtype=int64)"
      ]
     },
     "execution_count": 32,
     "metadata": {},
     "output_type": "execute_result"
    }
   ],
   "source": [
    "from sklearn.svm import SVC\n",
    "model = SVC(random_state=0,gamma='scale')\n",
    "\n",
    "model.fit(x_train, y_train)\n",
    "y_pred = model.predict(x_test)\n",
    "confusion_matrix(y_test, y_pred)"
   ]
  },
  {
   "cell_type": "code",
   "execution_count": null,
   "metadata": {},
   "outputs": [],
   "source": []
  }
 ],
 "metadata": {
  "kernelspec": {
   "display_name": "Python 3",
   "language": "python",
   "name": "python3"
  },
  "language_info": {
   "codemirror_mode": {
    "name": "ipython",
    "version": 3
   },
   "file_extension": ".py",
   "mimetype": "text/x-python",
   "name": "python",
   "nbconvert_exporter": "python",
   "pygments_lexer": "ipython3",
   "version": "3.7.3"
  }
 },
 "nbformat": 4,
 "nbformat_minor": 2
}
